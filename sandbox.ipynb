{
 "cells": [
  {
   "cell_type": "code",
   "execution_count": 1,
   "metadata": {},
   "outputs": [],
   "source": [
    "import os\n",
    "import shutil\n",
    "\n",
    "# Define the source directory where the images are located\n",
    "source_directory = './images'\n",
    "\n",
    "# Get a list of all image files in the source directory\n",
    "image_files = [file for file in os.listdir(source_directory) if file.endswith('.jpg') or file.endswith('.png')]\n",
    "\n",
    "# Sort the image files by modified date\n",
    "sorted_image_files = sorted(image_files, key=lambda x: os.path.getmtime(os.path.join(source_directory, x)))\n",
    "\n",
    "# Create the destination directories\n",
    "num_folders = len(sorted_image_files) // 20 + 1\n",
    "for i in range(num_folders):\n",
    "    folder_name = f'{i+1}'\n",
    "    os.makedirs(folder_name, exist_ok=True)\n",
    "\n",
    "# Move the sorted image files to the destination folders\n",
    "for i, image_file in enumerate(sorted_image_files):\n",
    "    folder_index = i // 20\n",
    "    folder_name = f'{folder_index+1}'\n",
    "    destination_path = os.path.join(folder_name, image_file)\n",
    "    source_path = os.path.join(source_directory, image_file)\n",
    "    shutil.move(source_path, destination_path)\n"
   ]
  },
  {
   "cell_type": "code",
   "execution_count": 8,
   "metadata": {},
   "outputs": [],
   "source": [
    "import os\n",
    "import shutil\n",
    "\n",
    "# Define the source directory where the images are located\n",
    "source_directory = './images'\n",
    "\n",
    "# Define the destination directory for the new folder\n",
    "new_folder_directory = './new_folder'\n",
    "\n",
    "# Create the new folder\n",
    "os.makedirs(new_folder_directory, exist_ok=True)\n",
    "\n",
    "# Get a list of all image files in the source directory\n",
    "image_files = []\n",
    "for folder in os.listdir(source_directory):\n",
    "    os.makedirs(os.path.join(new_folder_directory, folder), exist_ok=True)\n",
    "    for file in os.listdir(os.path.join(source_directory, folder)):\n",
    "        if file.endswith('.jpg') or file.endswith('.png'):\n",
    "            image_files.append(os.path.join(folder, file))      \n",
    "\n",
    "# Copy the image files to the new folder\n",
    "for image_file in image_files:\n",
    "    source_path = os.path.join(source_directory, image_file)\n",
    "    destination_path = os.path.join(new_folder_directory, image_file.split('/')[1])\n",
    "    shutil.copy(source_path, destination_path)\n"
   ]
  },
  {
   "cell_type": "code",
   "execution_count": 2,
   "metadata": {},
   "outputs": [
    {
     "data": {
      "text/plain": [
       "['4',\n",
       " '41',\n",
       " '47',\n",
       " '50',\n",
       " '54',\n",
       " '36',\n",
       " '9',\n",
       " '23',\n",
       " '46',\n",
       " '7',\n",
       " '32',\n",
       " '11',\n",
       " '34',\n",
       " '13',\n",
       " '39',\n",
       " '30',\n",
       " '45',\n",
       " '15',\n",
       " '18',\n",
       " '17',\n",
       " '48',\n",
       " '10',\n",
       " '12',\n",
       " '37',\n",
       " '55',\n",
       " '38',\n",
       " '31',\n",
       " '21',\n",
       " '28',\n",
       " '16',\n",
       " '40',\n",
       " '51',\n",
       " '53',\n",
       " '33',\n",
       " '25',\n",
       " '44',\n",
       " '2',\n",
       " '1',\n",
       " '35',\n",
       " '5',\n",
       " '19',\n",
       " '49',\n",
       " '29',\n",
       " '22',\n",
       " '43',\n",
       " '3',\n",
       " '42',\n",
       " '24',\n",
       " '26',\n",
       " '8',\n",
       " '20',\n",
       " '52',\n",
       " '56',\n",
       " '6',\n",
       " '27',\n",
       " '14']"
      ]
     },
     "execution_count": 2,
     "metadata": {},
     "output_type": "execute_result"
    }
   ],
   "source": [
    "os.listdir(source_directory)"
   ]
  },
  {
   "cell_type": "code",
   "execution_count": null,
   "metadata": {},
   "outputs": [],
   "source": []
  }
 ],
 "metadata": {
  "kernelspec": {
   "display_name": ".venv",
   "language": "python",
   "name": "python3"
  },
  "language_info": {
   "codemirror_mode": {
    "name": "ipython",
    "version": 3
   },
   "file_extension": ".py",
   "mimetype": "text/x-python",
   "name": "python",
   "nbconvert_exporter": "python",
   "pygments_lexer": "ipython3",
   "version": "3.9.0"
  }
 },
 "nbformat": 4,
 "nbformat_minor": 2
}
