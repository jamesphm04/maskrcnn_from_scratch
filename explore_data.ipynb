{
 "cells": [
  {
   "cell_type": "code",
   "execution_count": 1,
   "metadata": {},
   "outputs": [],
   "source": [
    "import os\n",
    "import cv2\n",
    "import numpy as np\n",
    "import matplotlib.pyplot as plt\n",
    "import copy"
   ]
  },
  {
   "cell_type": "code",
   "execution_count": 2,
   "metadata": {},
   "outputs": [
    {
     "data": {
      "text/plain": [
       "['LDEM_0_75E_0_30N_float_60fov_1024_1024_20deg_off_nadir',\n",
       " 'LDEM_0_75E_0_30N_float_60fov_1024_1024_60deg_off_nadir',\n",
       " 'LDEM_0_75E_0_30N_float_60fov_1024_1024_40deg_off_nadir',\n",
       " 'LDEM_0_75E_0_30N_float_60fov_1024_1024_50deg_off_nadir',\n",
       " 'LDEM_0_75E_0_30N_float_60fov_1024_1024_30deg_off_nadir',\n",
       " 'LDEM_0_75E_0_30N_float_60fov_1024_1024_0deg_off_nadir',\n",
       " 'LDEM_0_75E_0_30N_float_60fov_1024_1024_10deg_off_nadir']"
      ]
     },
     "execution_count": 2,
     "metadata": {},
     "output_type": "execute_result"
    }
   ],
   "source": [
    "folder_names = 'LDEM_0_75E_0_30N_float_60fov_1024_1024_'\n",
    "directory = 'data/sofia_data/fixed_dataset/processed_real_lunar_data_complete_height_adjusted'\n",
    "\n",
    "off_nadir_folders = [folder for folder in os.listdir(directory) if folder.startswith(folder_names)]\n",
    "off_nadir_folders\n"
   ]
  },
  {
   "cell_type": "code",
   "execution_count": null,
   "metadata": {},
   "outputs": [],
   "source": [
    "for off_nadir_folder in off_nadir_folders:\n",
    "    root_dir = os.path.join(directory, off_nadir_folder)\n",
    "    image_dir = os.path.join(root_dir, 'ground_truth_images')\n",
    "    images_boxes_dir = os.path.join(root_dir, 'ground_truth_bounding_boxes')\n",
    "    images_ellipses_dir = os.path.join(root_dir, 'ground_truth_projected_ellipses')\n",
    "    \n",
    "    image_dir_items = [i.split(\".\")[0] for i in os.listdir(image_dir)]\n",
    "    images_boxes_dir_items = [i.split(\".\")[0] for i in os.listdir(images_boxes_dir)]\n",
    "    images_ellipses_dir_items = [i.split(\".\")[0] for i in os.listdir(images_ellipses_dir)]\n",
    "    items = list(set(image_dir_items) & set(images_boxes_dir_items) & set(images_ellipses_dir_items))\n",
    "    items = sorted(items, key=lambda x: int(x.split('.')[0]), reverse=True)\n",
    "    image_files = []\n",
    "    for i in items[:10]:\n",
    "        image_files.append(f'{i.split(\".\")[0]}.png')\n",
    "\n",
    "    images = {}\n",
    "    for file in image_files:\n",
    "        image_path = os.path.join(image_dir, file)\n",
    "        image = cv2.imread(image_path)\n",
    "        images[file.split('.')[0]] = image\n",
    "        \n",
    "    boxes_files = []\n",
    "    for i in list(images.keys()):\n",
    "        boxes_files.append(f'{i}.txt')\n",
    "        \n",
    "    boxes = {}\n",
    "    for file in boxes_files:\n",
    "        boxes_path = os.path.join(images_boxes_dir, file)\n",
    "        with open(boxes_path, 'r') as f:\n",
    "            lines = f.readlines()[1:]\n",
    "            \n",
    "            if len(lines) == 0:\n",
    "                key = f\"{file.split('.')[0]}\"\n",
    "                del images[key]\n",
    "            \n",
    "            \n",
    "            for line in lines:\n",
    "                data = line.strip().split(',')\n",
    "                x1, y1, x2, y2 = map(int, data)\n",
    "                key = f\"{file.split('.')[0]}\"\n",
    "                if key not in boxes:\n",
    "                    boxes[key] = []\n",
    "                boxes[key].append((int(x1), int(y1), int(x2), int(y2)))\n",
    "                \n",
    "    ellipses_files = []\n",
    "    for i in list(images.keys()):\n",
    "        ellipses_files.append(f'{i}.txt')\n",
    "    ellipses = {}\n",
    "    for file in ellipses_files:\n",
    "        ellipses_path = os.path.join(images_ellipses_dir, file)\n",
    "        with open(ellipses_path, 'r') as f:\n",
    "            lines = f.readlines()[1:]\n",
    "            \n",
    "            if len(lines) == 0:\n",
    "                key = f\"{file.split('.')[0]}\"\n",
    "                del images[key]\n",
    "                del boxes[key]\n",
    "            \n",
    "            for line in lines:\n",
    "                data = line.strip().split(',')\n",
    "                x_centre, y_centre, semi_major_axis, semi_minor_axis, rotation = map(float, data)\n",
    "                rotation = np.degrees(rotation)\n",
    "                key = f\"{file.split('.')[0]}\"\n",
    "                if key not in ellipses:\n",
    "                    ellipses[key] = []\n",
    "                ellipses[key].append((int(x_centre), int(y_centre), int(semi_major_axis), int(semi_minor_axis), int(rotation)))\n",
    "                \n",
    "    for key in images.keys():\n",
    "        image = copy.deepcopy(images[key])\n",
    "        \n",
    "        for box in boxes[key]:\n",
    "            x1, y1, x2, y2 = box\n",
    "            cv2.rectangle(image, (x1, y1), (x2, y2), (0, 0, 255), 1)\n",
    "            \n",
    "        for ellipse in ellipses[key]:\n",
    "            x_centre, y_centre, semi_major_axis, semi_minor_axis, rotation = ellipse\n",
    "            cv2.ellipse(image, (int(x_centre), int(y_centre)),\n",
    "                            (int(semi_major_axis), int(semi_minor_axis)),\n",
    "                            angle=rotation, startAngle=0, endAngle=360,\n",
    "                            color=(255, 0, 0), thickness=1)\n",
    "        \n",
    "        # Rotate the image by 180 degrees\n",
    "        # image = cv2.rotate(image, cv2.ROTATE_180)\n",
    "        \n",
    "        plt.imshow(image)\n",
    "        plt.title(f'Image {key}')\n",
    "        plt.show()"
   ]
  },
  {
   "cell_type": "code",
   "execution_count": 1,
   "metadata": {},
   "outputs": [],
   "source": [
    "\n",
    "\n",
    "\n",
    "image_dir = 'data/sofia_data_v2/ground_truth_images'\n",
    "images_boxes_dir = 'data/sofia_data_v2/ground_truth_bounding_boxes'\n",
    "image_dir_items = [i.split(\".\")[0] for i in os.listdir(image_dir)]\n",
    "images_boxes_dir_items = [i.split(\".\")[0] for i in os.listdir(images_boxes_dir)]\n",
    "items = list(set(image_dir_items) & set(images_boxes_dir_items))\n",
    "items = sorted(items, key=lambda x: int(x.split('.')[0]), reverse=True)\n"
   ]
  },
  {
   "cell_type": "code",
   "execution_count": 6,
   "metadata": {},
   "outputs": [],
   "source": [
    "\n",
    "image_files = []\n",
    "for i in items[:100]:\n",
    "    image_files.append(f'{i.split(\".\")[0]}.png')\n",
    "\n",
    "images = {}\n",
    "for file in image_files:\n",
    "    image_path = os.path.join(image_dir, file)\n",
    "    image = cv2.imread(image_path)\n",
    "    images[file.split('.')[0]] = image"
   ]
  },
  {
   "cell_type": "code",
   "execution_count": 7,
   "metadata": {},
   "outputs": [
    {
     "data": {
      "text/plain": [
       "dict_keys(['960', '959', '958', '957', '956', '955', '954', '953', '952', '951', '950', '949', '948', '947', '946', '945', '944', '943', '942', '941', '940', '939', '938', '937', '936', '935', '934', '933', '932', '931', '930', '929', '928', '927', '926', '925', '924', '923', '922', '921', '920', '919', '918', '917', '916', '915', '914', '913', '912', '911', '910', '909', '908', '907', '906', '905', '904', '903', '902', '901', '900', '899', '898', '897', '896', '895', '894', '893', '892', '891', '890', '889', '888', '887', '886', '885', '884', '883', '882', '881', '880', '879', '878', '877', '876', '875', '874', '873', '872', '871', '870', '869', '868', '867', '866', '865', '864', '863', '862', '861'])"
      ]
     },
     "execution_count": 7,
     "metadata": {},
     "output_type": "execute_result"
    }
   ],
   "source": [
    "boxes_dir = './data/sofia_data_v2/ground_truth_bounding_boxes'\n",
    "boxes_files = []\n",
    "for i in list(images.keys()):\n",
    "    boxes_files.append(f'{i}.txt')\n",
    "\n",
    "boxes = {}\n",
    "for file in boxes_files:\n",
    "    boxes_path = os.path.join(boxes_dir, file)\n",
    "    with open(boxes_path, 'r') as f:\n",
    "        lines = f.readlines()[1:]\n",
    "        for line in lines:\n",
    "            data = line.strip().split(',')\n",
    "            x1, y1, x2, y2 = map(int, data)\n",
    "            key = f\"{file.split('.')[0]}\"\n",
    "            if key not in boxes:\n",
    "                boxes[key] = []\n",
    "            boxes[key].append((int(x1), int(y1), int(x2), int(y2)))\n",
    "\n",
    "boxes.keys()"
   ]
  },
  {
   "cell_type": "code",
   "execution_count": 8,
   "metadata": {},
   "outputs": [
    {
     "data": {
      "text/plain": [
       "dict_keys(['960', '959', '958', '957', '956', '955', '954', '953', '952', '951', '950', '949', '948', '947', '946', '945', '944', '943', '942', '941', '940', '939', '938', '937', '936', '935', '934', '933', '932', '931', '930', '929', '928', '927', '926', '925', '924', '923', '922', '921', '920', '919', '918', '917', '916', '915', '914', '913', '912', '911', '910', '909', '908', '907', '906', '905', '904', '903', '902', '901', '900', '899', '898', '897', '896', '895', '894', '893', '892', '891', '890', '889', '888', '887', '886', '885', '884', '883', '882', '881', '880', '879', '878', '877', '876', '875', '874', '873', '872', '871', '870', '869', '868', '867', '866', '865', '864', '863', '862', '861'])"
      ]
     },
     "execution_count": 8,
     "metadata": {},
     "output_type": "execute_result"
    }
   ],
   "source": [
    "ellipses_dir = './data/sofia_data_v2/ground_truth_projected_ellipses'\n",
    "ellipses_files = []\n",
    "for i in list(images.keys()):\n",
    "    ellipses_files.append(f'{i}.txt')\n",
    "ellipses = {}\n",
    "for file in ellipses_files:\n",
    "    ellipses_path = os.path.join(ellipses_dir, file)\n",
    "    with open(ellipses_path, 'r') as f:\n",
    "        lines = f.readlines()[1:]\n",
    "        for line in lines:\n",
    "            data = line.strip().split(',')\n",
    "            x_centre, y_centre, semi_major_axis, semi_minor_axis, rotation = map(float, data[:-1])\n",
    "            rotation = np.degrees(rotation)\n",
    "            key = f\"{file.split('.')[0]}\"\n",
    "            if key not in ellipses:\n",
    "                ellipses[key] = []\n",
    "            ellipses[key].append((int(x_centre), int(y_centre), int(semi_major_axis), int(semi_minor_axis), int(rotation)))\n",
    "\n",
    "ellipses.keys()"
   ]
  },
  {
   "cell_type": "code",
   "execution_count": null,
   "metadata": {},
   "outputs": [],
   "source": [
    "import copy\n",
    "\n",
    "for key in images.keys():\n",
    "    image = copy.deepcopy(images[key])\n",
    "    \n",
    "    for box in boxes[key]:\n",
    "        x1, y1, x2, y2 = box\n",
    "        cv2.rectangle(image, (x1, y1), (x2, y2), (0, 0, 255), 1)\n",
    "        \n",
    "    for ellipse in ellipses[key]:\n",
    "        x_centre, y_centre, semi_major_axis, semi_minor_axis, rotation = ellipse\n",
    "        cv2.ellipse(image, (int(x_centre), int(y_centre)),\n",
    "                        (int(semi_major_axis), int(semi_minor_axis)),\n",
    "                        angle=rotation, startAngle=0, endAngle=360,\n",
    "                        color=(255, 0, 0), thickness=1)\n",
    "    \n",
    "    # Rotate the image by 180 degrees\n",
    "    rotated_image = cv2.rotate(image, cv2.ROTATE_180)\n",
    "    \n",
    "    plt.imshow(rotated_image)\n",
    "    plt.title(f'Image {key}')\n",
    "    plt.show()\n"
   ]
  }
 ],
 "metadata": {
  "kernelspec": {
   "display_name": ".venv",
   "language": "python",
   "name": "python3"
  },
  "language_info": {
   "codemirror_mode": {
    "name": "ipython",
    "version": 3
   },
   "file_extension": ".py",
   "mimetype": "text/x-python",
   "name": "python",
   "nbconvert_exporter": "python",
   "pygments_lexer": "ipython3",
   "version": "3.9.0"
  }
 },
 "nbformat": 4,
 "nbformat_minor": 2
}
